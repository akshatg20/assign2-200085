{
 "cells": [
  {
   "cell_type": "code",
   "execution_count": 1,
   "metadata": {},
   "outputs": [],
   "source": [
    "import math\n",
    "import random"
   ]
  },
  {
   "cell_type": "markdown",
   "metadata": {},
   "source": [
    "#### Neural Network Specification"
   ]
  },
  {
   "cell_type": "markdown",
   "metadata": {},
   "source": [
    "| Layer    | Nuerons          | Activation |\n",
    "| -------- | ---------------- | ---------- |\n",
    "| Input    | x1, x2, x3       | None       | \n",
    "| Hidden   | h1, h2, h3, h4, h5, h6, h7 | Sigmoid |\n",
    "| Output   | y1 | Sigmoid |\n",
    "\n",
    "We have a **3 layer neural network** with a **single hidden layer** containing 7 neurons."
   ]
  },
  {
   "cell_type": "code",
   "execution_count": 2,
   "metadata": {},
   "outputs": [],
   "source": [
    "# sigmoid function and its derivative\n",
    "def sigmoid(x):\n",
    "    return 1 / (1 + math.exp(-x))\n",
    "\n",
    "def sigmoid_derivative(x):\n",
    "    return x * (1 - x)"
   ]
  },
  {
   "cell_type": "code",
   "execution_count": 3,
   "metadata": {},
   "outputs": [],
   "source": [
    "# initialize the weights randomly\n",
    "def init_weights(num_inputs, num_hidden, num_outputs):\n",
    "    W1 = [[random.uniform(-1, 1) for _ in range(num_inputs)] for _ in range(num_hidden)]\n",
    "    W2 = [random.uniform(-1, 1) for _ in range(num_hidden)]\n",
    "    return W1, W2"
   ]
  },
  {
   "cell_type": "code",
   "execution_count": 4,
   "metadata": {},
   "outputs": [],
   "source": [
    "# feedforward step\n",
    "def feedforward(X, W1, W2):\n",
    "\n",
    "    # hidden layer\n",
    "    hidden_input = [sum(X[i] * W1[j][i] for i in range(len(X))) for j in range(len(W1))]\n",
    "    hidden_output = [sigmoid(h) for h in hidden_input]\n",
    "\n",
    "    # output layer\n",
    "    final_input = sum(hidden_output[i] * W2[i] for i in range(len(hidden_output)))\n",
    "    final_output = sigmoid(final_input)\n",
    "\n",
    "    return hidden_output, final_output"
   ]
  },
  {
   "cell_type": "code",
   "execution_count": 5,
   "metadata": {},
   "outputs": [],
   "source": [
    "# backpropagation step\n",
    "def backpropagation(X, Y, W1, W2, hidden_output, final_output, learning_rate):\n",
    "\n",
    "    # calculate the error\n",
    "    output_error = Y - final_output\n",
    "    output_delta = output_error * sigmoid_derivative(final_output)\n",
    "\n",
    "    # calculate the hidden layer error\n",
    "    hidden_error = [output_delta * W2[i] for i in range(len(W2))]\n",
    "    hidden_delta = [hidden_error[i] * sigmoid_derivative(hidden_output[i]) for i in range(len(hidden_error))]\n",
    "\n",
    "    # update the weights for the output layer\n",
    "    for i in range(len(W2)):\n",
    "        W2[i] += hidden_output[i] * output_delta * learning_rate\n",
    "    \n",
    "    # update the weights for the hidden layer\n",
    "    for i in range(len(W1)):\n",
    "        for j in range(len(X)):\n",
    "            W1[i][j] += X[j] * hidden_delta[i] * learning_rate"
   ]
  },
  {
   "cell_type": "code",
   "execution_count": 6,
   "metadata": {},
   "outputs": [],
   "source": [
    "# train the neural network\n",
    "def train_network(train_data, W1, W2, epochs = 10000, learning_rate = 0.1):\n",
    "    for _ in range(epochs):\n",
    "        for x, y in train_data:\n",
    "            hidden_output, final_output = feedforward(x, W1, W2)\n",
    "            backpropagation(x, y, W1, W2, hidden_output, final_output, learning_rate)\n",
    "        \n",
    "    return W1, W2"
   ]
  },
  {
   "cell_type": "code",
   "execution_count": 7,
   "metadata": {},
   "outputs": [],
   "source": [
    "# Function to calculate accuracy of the neural network\n",
    "def test_accuracy(train_data, W1, W2):\n",
    "    correct_predictions = 0\n",
    "    total_samples = len(train_data)\n",
    "\n",
    "    for x, y in train_data:\n",
    "        _, final_output = feedforward(x, W1, W2)\n",
    "        predicted = round(final_output)  # Round the final output to 0 or 1\n",
    "        if predicted == y:\n",
    "            correct_predictions += 1\n",
    "\n",
    "    accuracy = (correct_predictions / total_samples) * 100\n",
    "    return accuracy\n"
   ]
  },
  {
   "cell_type": "code",
   "execution_count": 15,
   "metadata": {},
   "outputs": [],
   "source": [
    "# verify the learned function\n",
    "def verify_network(W1, W2, train_data, diagnostics = False):\n",
    "    correct_predictions = 0\n",
    "    total_samples = len(train_data)\n",
    "\n",
    "    for x, y in train_data:\n",
    "        _, final_output = feedforward(x, W1, W2)\n",
    "        predicted = round(final_output)\n",
    "        if predicted == y:\n",
    "            correct_predictions += 1\n",
    "        if diagnostics:\n",
    "            print(f\"Input: {x} => Predicted: {round(final_output)} (Expected: {int(y)})\")\n",
    "    \n",
    "    accuracy = (correct_predictions / total_samples) * 100\n",
    "    print(f\"Accuracy: {accuracy:.2f}%\")"
   ]
  },
  {
   "cell_type": "markdown",
   "metadata": {},
   "source": [
    "#### Generating boolean functions and input data"
   ]
  },
  {
   "cell_type": "code",
   "execution_count": 9,
   "metadata": {},
   "outputs": [],
   "source": [
    "# Define 5 different Boolean functions (other functions can be added)\n",
    "boolean_functions = [\n",
    "        lambda x1, x2, x3: x1 and x2 and x3,                          # AND\n",
    "        lambda x1, x2, x3: x1 or x2 or x3,                            # OR\n",
    "        lambda x1, x2, x3: x1 ^ x2 ^ x3,                              # XOR\n",
    "        lambda x1, x2, x3: (x1 and x2) or x3 and (x2 or x1),          # Complex AND-OR\n",
    "        lambda x1, x2, x3: (x1 or x2) and (not x3)                    # OR with NOT\n",
    "    ]\n",
    "    \n",
    "# Generate input training data (all 8 combinations of 3 binary variables)\n",
    "input_data = [\n",
    "        [0, 0, 0],\n",
    "        [0, 0, 1],\n",
    "        [0, 1, 0],\n",
    "        [0, 1, 1],\n",
    "        [1, 0, 0],\n",
    "        [1, 0, 1],\n",
    "        [1, 1, 0],\n",
    "        [1, 1, 1],\n",
    "]"
   ]
  },
  {
   "cell_type": "markdown",
   "metadata": {},
   "source": [
    "#### Now we train and verify the network for each boolean function"
   ]
  },
  {
   "cell_type": "code",
   "execution_count": 16,
   "metadata": {},
   "outputs": [
    {
     "name": "stdout",
     "output_type": "stream",
     "text": [
      "\n",
      "Training for Boolean function 1...\n",
      "Verification for Boolean function 1:\n",
      "Input: [0, 0, 0] => Predicted: 0 (Expected: 0)\n",
      "Input: [0, 0, 1] => Predicted: 0 (Expected: 0)\n",
      "Input: [0, 1, 0] => Predicted: 0 (Expected: 0)\n",
      "Input: [0, 1, 1] => Predicted: 0 (Expected: 0)\n",
      "Input: [1, 0, 0] => Predicted: 0 (Expected: 0)\n",
      "Input: [1, 0, 1] => Predicted: 0 (Expected: 0)\n",
      "Input: [1, 1, 0] => Predicted: 0 (Expected: 0)\n",
      "Input: [1, 1, 1] => Predicted: 1 (Expected: 1)\n",
      "Accuracy: 100.00%\n",
      "\n",
      "Training for Boolean function 2...\n",
      "Verification for Boolean function 2:\n",
      "Input: [0, 0, 0] => Predicted: 0 (Expected: 0)\n",
      "Input: [0, 0, 1] => Predicted: 1 (Expected: 1)\n",
      "Input: [0, 1, 0] => Predicted: 1 (Expected: 1)\n",
      "Input: [0, 1, 1] => Predicted: 1 (Expected: 1)\n",
      "Input: [1, 0, 0] => Predicted: 1 (Expected: 1)\n",
      "Input: [1, 0, 1] => Predicted: 1 (Expected: 1)\n",
      "Input: [1, 1, 0] => Predicted: 1 (Expected: 1)\n",
      "Input: [1, 1, 1] => Predicted: 1 (Expected: 1)\n",
      "Accuracy: 100.00%\n",
      "\n",
      "Training for Boolean function 3...\n",
      "Verification for Boolean function 3:\n",
      "Input: [0, 0, 0] => Predicted: 0 (Expected: 0)\n",
      "Input: [0, 0, 1] => Predicted: 1 (Expected: 1)\n",
      "Input: [0, 1, 0] => Predicted: 1 (Expected: 1)\n",
      "Input: [0, 1, 1] => Predicted: 0 (Expected: 0)\n",
      "Input: [1, 0, 0] => Predicted: 1 (Expected: 1)\n",
      "Input: [1, 0, 1] => Predicted: 0 (Expected: 0)\n",
      "Input: [1, 1, 0] => Predicted: 0 (Expected: 0)\n",
      "Input: [1, 1, 1] => Predicted: 1 (Expected: 1)\n",
      "Accuracy: 100.00%\n",
      "\n",
      "Training for Boolean function 4...\n",
      "Verification for Boolean function 4:\n",
      "Input: [0, 0, 0] => Predicted: 0 (Expected: 0)\n",
      "Input: [0, 0, 1] => Predicted: 0 (Expected: 0)\n",
      "Input: [0, 1, 0] => Predicted: 0 (Expected: 0)\n",
      "Input: [0, 1, 1] => Predicted: 1 (Expected: 1)\n",
      "Input: [1, 0, 0] => Predicted: 0 (Expected: 0)\n",
      "Input: [1, 0, 1] => Predicted: 1 (Expected: 1)\n",
      "Input: [1, 1, 0] => Predicted: 1 (Expected: 1)\n",
      "Input: [1, 1, 1] => Predicted: 1 (Expected: 1)\n",
      "Accuracy: 100.00%\n",
      "\n",
      "Training for Boolean function 5...\n",
      "Verification for Boolean function 5:\n",
      "Input: [0, 0, 0] => Predicted: 0 (Expected: 0)\n",
      "Input: [0, 0, 1] => Predicted: 0 (Expected: 0)\n",
      "Input: [0, 1, 0] => Predicted: 1 (Expected: 1)\n",
      "Input: [0, 1, 1] => Predicted: 0 (Expected: 0)\n",
      "Input: [1, 0, 0] => Predicted: 1 (Expected: 1)\n",
      "Input: [1, 0, 1] => Predicted: 0 (Expected: 0)\n",
      "Input: [1, 1, 0] => Predicted: 1 (Expected: 1)\n",
      "Input: [1, 1, 1] => Predicted: 0 (Expected: 0)\n",
      "Accuracy: 100.00%\n"
     ]
    }
   ],
   "source": [
    "# Train and test for each Boolean function\n",
    "for idx, boolean_func in enumerate(boolean_functions):\n",
    "   print(f\"\\nTraining for Boolean function {idx + 1}...\")\n",
    "\n",
    "   # Generate training data (input-output pairs)\n",
    "   train_data = [(x, boolean_func(*x)) for x in input_data]\n",
    "        \n",
    "   # Initialize weights\n",
    "   W1, W2 = init_weights(3, 7, 1)  # 3 inputs, 7 hidden neurons, 1 output neuron\n",
    "        \n",
    "   # Train the neural network\n",
    "   W1, W2 = train_network(train_data, W1, W2)\n",
    "        \n",
    "   # Verify the network\n",
    "   print(f\"Verification for Boolean function {idx + 1}:\")\n",
    "   verify_network(W1, W2, train_data, diagnostics=True)"
   ]
  },
  {
   "cell_type": "markdown",
   "metadata": {},
   "source": [
    "We see that the network has successfully learned each of the functions."
   ]
  },
  {
   "cell_type": "markdown",
   "metadata": {},
   "source": []
  }
 ],
 "metadata": {
  "kernelspec": {
   "display_name": "neuro",
   "language": "python",
   "name": "python3"
  },
  "language_info": {
   "codemirror_mode": {
    "name": "ipython",
    "version": 3
   },
   "file_extension": ".py",
   "mimetype": "text/x-python",
   "name": "python",
   "nbconvert_exporter": "python",
   "pygments_lexer": "ipython3",
   "version": "3.9.12"
  }
 },
 "nbformat": 4,
 "nbformat_minor": 2
}
